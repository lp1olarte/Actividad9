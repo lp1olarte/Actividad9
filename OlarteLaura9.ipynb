{
 "cells": [
  {
   "cell_type": "markdown",
   "id": "bf52e49f-92fc-4cf2-84ca-bc15f4b4949e",
   "metadata": {},
   "source": [
    "In steady state the heat equation takes the form of a Laplace equation\n",
    "$$\n",
    "\\nabla^2 T = \\partial_t T = 0\n",
    "$$\n",
    "\n",
    "Using finite differences it looks like\n",
    "$$\n",
    "\\frac{T(x-\\Delta x)+T(h+\\Delta x)-2 T(x)}{\\Delta x^2} = 0\n",
    "$$\n",
    "where $dx$ does not matter, because it can be factored out.\n",
    "\n",
    "The $-2$ on the central element and the $1$ on the side elements are represented as a matrix operation for all $x$ by the Laplace kernel:\n",
    "\n",
    "$$\n",
    "\\begin{pmatrix}\n",
    " -2 & 1 & 0 & 0 & 0 & 0 & 0 & 0 & 0 \\\\\n",
    " 1 & -2 & 1 & 0 & 0 & 0 & 0 & 0 & 0 \\\\\n",
    " 0 & 1 & -2 & 1 & 0 & 0 & 0 & 0 & 0 \\\\\n",
    " 0 & 0 & 1 & -2 & 1 & 0 & 0 & 0 & 0 \\\\\n",
    " 0 & 0 & 0 & 1 & -2 & 1 & 0 & 0 & 0 \\\\\n",
    " 0 & 0 & 0 & 0 & 1 & -2 & 1 & 0 & 0 \\\\\n",
    " 0 & 0 & 0 & 0 & 0 & 1 & -2 & 1 & 0 \\\\\n",
    " 0 & 0 & 0 & 0 & 0 & 0 & 1 & -2 & 1 \\\\\n",
    " 0 & 0 & 0 & 0 & 0 & 0 & 0 & 1 & -2 \\\\\n",
    "\\end{pmatrix} \\cdot T = const\n",
    "$$\n",
    "\n",
    "That constants on the left-hand side are determined by the static boundary conditions\n",
    "$$\n",
    "-2 T_0 + T_1  = - T(0)\n",
    "$$\n",
    "$$\n",
    "-2 T_n + T_{n-1} = - T(L)\n",
    "$$\n",
    "\n",
    "This makes the constant vector\n",
    "$$\n",
    "\\begin{pmatrix}\n",
    "-T(0) \\\\\n",
    "0 \\\\ 0 \\\\ \\vdots \\\\ 0 \\\\ 0 \\\\ -T(L)\n",
    "\\end{pmatrix}\n",
    "$$"
   ]
  },
  {
   "cell_type": "code",
   "execution_count": 140,
   "id": "5b4cbc40-dddd-4ace-aeb9-e1e777f49bba",
   "metadata": {},
   "outputs": [
    {
     "data": {
      "image/png": "[encoded data removed]",
      "text/plain": [
       "<Figure size 432x288 with 1 Axes>"
      ]
     },
     "metadata": {
      "needs_background": "light"
     },
     "output_type": "display_data"
    }
   ],
   "source": [
    "import numpy as np\n",
    "import matplotlib.pyplot as plt\n",
    "\n",
    "M = 9\n",
    "# create Laplace kernel A\n",
    "A = np.zeros((M+1,M+1)) \n",
    "# Fill diagonal\n",
    "A.ravel()[::M+2] = -2 \n",
    "# Fill upper and lower diagonal bands\n",
    "A.ravel()[1::M+2] = 1 \n",
    "A.ravel()[M+1::M+2] = 1\n",
    "\n",
    "# boundary conditions, negative\n",
    "boundary = np.zeros(M+1)\n",
    "boundary[0] = -273\n",
    "boundary[-1] = -298\n",
    "\n",
    "solution = np.linalg.inv(A) @ boundary\n",
    "\n",
    "plt.plot(np.linspace(0,0.2,len(solution)),solution,\".-\")\n",
    "plt.xlabel(\"x (m)\")\n",
    "plt.ylabel(\"T (K)\")\n",
    "plt.title(\"steady state of the system\")\n",
    "plt.savefig(\"T_vs_x.pdf\")"
   ]
  },
  {
   "cell_type": "markdown",
   "id": "b1276999-e098-40c6-ad3d-072eb8656681",
   "metadata": {},
   "source": [
    "Analysis: The steady state of the heat equation was solved by inverting the Laplace kernel in matrix form, given a perfect line.\n",
    "That represents the equilibrium reached between two points at different temperature.\n",
    "\n",
    "Given the simple nature of this curve, there would be not much improvement by incrementing the number of points in the grid."
   ]
  },
  {
   "cell_type": "code",
   "execution_count": null,
   "id": "a7557af3-b452-4261-9ef2-826be398010b",
   "metadata": {},
   "outputs": [],
   "source": []
  }
 ],
 "metadata": {
  "kernelspec": {
   "display_name": "Python 3 (ipykernel)",
   "language": "python",
   "name": "python3"
  },
  "language_info": {
   "codemirror_mode": {
    "name": "ipython",
    "version": 3
   },
   "file_extension": ".py",
   "mimetype": "text/x-python",
   "name": "python",
   "nbconvert_exporter": "python",
   "pygments_lexer": "ipython3",
   "version": "3.10.4"
  }
 },
 "nbformat": 4,
 "nbformat_minor": 5
}
